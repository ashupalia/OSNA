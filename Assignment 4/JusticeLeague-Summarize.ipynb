{
 "cells": [
  {
   "cell_type": "code",
   "execution_count": 13,
   "metadata": {
    "collapsed": true
   },
   "outputs": [],
   "source": [
    "import networkx as nx\n",
    "import matplotlib.pyplot as plt\n",
    "import sys\n",
    "import pandas as pd\n",
    "from TwitterAPI import TwitterAPI\n",
    "import numpy as np\n",
    "import time\n",
    "from collections import Counter\n",
    "from nltk.tokenize import word_tokenize\n",
    "\n",
    "##################################################################################################\n",
    "#~~~~~~~~~~~~~~~This function summarizes all the functions and create a text file~~~~~~~~~~~~~~~~#\n",
    "##################################################################################################\n",
    "\n",
    "\n",
    "def main():\n",
    "    textfiles = list()\n",
    "    textfiles.append('collect.txt')\n",
    "    textfiles.append('cluster.txt')\n",
    "    textfiles.append('classify.txt')    \n",
    "    sumarizefile = open(\"sumarize.txt\",\"w+\")\n",
    "    for i in textfiles:\n",
    "        f=open(i,'r')\n",
    "        if f.mode=='r':\n",
    "            readFiles=f.read()\n",
    "        lines=readFiles.splitlines()\n",
    "        for aLine in lines:\n",
    "            if sumarizefile.mode =='w+':\n",
    "                sumarizefile.write(\"\\n \" +aLine)\n",
    "                \n",
    "if __name__ == '__main__':\n",
    "    main()\n",
    "\n"
   ]
  },
  {
   "cell_type": "code",
   "execution_count": null,
   "metadata": {
    "collapsed": true
   },
   "outputs": [],
   "source": []
  }
 ],
 "metadata": {
  "kernelspec": {
   "display_name": "Python 3",
   "language": "python",
   "name": "python3"
  },
  "language_info": {
   "codemirror_mode": {
    "name": "ipython",
    "version": 3
   },
   "file_extension": ".py",
   "mimetype": "text/x-python",
   "name": "python",
   "nbconvert_exporter": "python",
   "pygments_lexer": "ipython3",
   "version": "3.6.1"
  }
 },
 "nbformat": 4,
 "nbformat_minor": 2
}
